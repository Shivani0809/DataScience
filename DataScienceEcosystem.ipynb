{
  "metadata": {
    "kernelspec": {
      "name": "python",
      "display_name": "Python (Pyodide)",
      "language": "python"
    },
    "language_info": {
      "codemirror_mode": {
        "name": "python",
        "version": 3
      },
      "file_extension": ".py",
      "mimetype": "text/x-python",
      "name": "python",
      "nbconvert_exporter": "python",
      "pygments_lexer": "ipython3",
      "version": "3.8"
    }
  },
  "nbformat_minor": 4,
  "nbformat": 4,
  "cells": [
    {
      "cell_type": "markdown",
      "source": "<h1> Data Science Tools and Ecosystem </h1>",
      "metadata": {}
    },
    {
      "cell_type": "markdown",
      "source": "<p>\n    In this notebook, Data Science Tools and Ecosystem are summarized. \n</p>",
      "metadata": {}
    },
    {
      "cell_type": "markdown",
      "source": "<b> Some of the popular languages that Data Scientists use are:<b>\n<ol>\n    <li>Python</li>\n    <li>SQL</li>\n    <li>R</li>\n</ol>",
      "metadata": {}
    },
    {
      "cell_type": "markdown",
      "source": "<b> Some of the commonly used libraries used by Data Scientists include: </b>\n<ol>\n    <li>TensorFlow</li>\n    <li>SciPy</li>\n    <li>NumPy</li>\n    <li>Pandas</li>\n    <li>Pytorch</li>\n</ol>",
      "metadata": {}
    },
    {
      "cell_type": "markdown",
      "source": "<b>Data Science Tools</b>\n<table>\n  <tr>\n    <th>Data Science Tools</th>\n  </tr>\n  <tr>\n    <td>Jupiter Notebook</td>\n  </tr>\n  <tr> \n  \t<td>R Studio</td>\n  </tr>\n  <tr> \n  \t<td>Apache Spark</td>\n  </tr>\n</table>",
      "metadata": {}
    },
    {
      "cell_type": "markdown",
      "source": "<h3>Below are a few examples of evaluating arithmetic expressions in Python.</h3>",
      "metadata": {}
    },
    {
      "cell_type": "code",
      "source": "# This a simple arithmetic expression to mutiply then add integers\neval = (3*4)+5\nprint(eval)\nprint(eval==17)",
      "metadata": {
        "trusted": true
      },
      "outputs": [
        {
          "name": "stdout",
          "text": "17\nTrue\n",
          "output_type": "stream"
        }
      ],
      "execution_count": 2
    },
    {
      "cell_type": "code",
      "source": "# This will convert 200 minutes to hours by diving by 60\nprint(200 / 6)",
      "metadata": {
        "trusted": true
      },
      "outputs": [
        {
          "name": "stdout",
          "text": "33.333333333333336\n",
          "output_type": "stream"
        }
      ],
      "execution_count": 3
    },
    {
      "cell_type": "markdown",
      "source": "<p><b>Objectives:</b> List popular languages for Data Science.<p>\n<ul>\n    <li>Python</li>\n    <li>R</li>\n    <li>SQL</li>\n</ul>",
      "metadata": {}
    },
    {
      "cell_type": "markdown",
      "source": "<h2>Author</h2>\nShivani Kumari",
      "metadata": {}
    },
    {
      "cell_type": "code",
      "source": "",
      "metadata": {
        "trusted": true
      },
      "outputs": [],
      "execution_count": null
    }
  ]
}